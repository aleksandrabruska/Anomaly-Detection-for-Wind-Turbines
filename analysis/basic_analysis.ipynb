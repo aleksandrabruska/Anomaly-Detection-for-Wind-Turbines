{
 "cells": [
  {
   "cell_type": "code",
   "id": "initial_id",
   "metadata": {
    "collapsed": true,
    "ExecuteTime": {
     "end_time": "2025-01-30T09:51:53.998691Z",
     "start_time": "2025-01-30T09:51:51.270952Z"
    }
   },
   "source": "import pandas as pd",
   "outputs": [],
   "execution_count": 2
  },
  {
   "metadata": {
    "ExecuteTime": {
     "end_time": "2025-01-30T13:56:00.720806Z",
     "start_time": "2025-01-30T13:56:00.713221Z"
    }
   },
   "cell_type": "code",
   "source": [
    "KELMARSH_PATHS = [f\"..\\Kelmarsh\\Turbine_Data_Kelmarsh_1_2021-01-01_-_2021-07-01_228.csv\",\n",
    "                  f\"..\\Kelmarsh\\Turbine_Data_Kelmarsh_2_2021-01-01_-_2021-07-01_229.csv\",\n",
    "                  f\"..\\Kelmarsh\\Turbine_Data_Kelmarsh_3_2021-01-01_-_2021-07-01_230.csv\",\n",
    "                  f\"..\\Kelmarsh\\Turbine_Data_Kelmarsh_4_2021-01-01_-_2021-07-01_231.csv\",\n",
    "                  f\"..\\Kelmarsh\\Turbine_Data_Kelmarsh_5_2021-01-01_-_2021-07-01_232.csv\",\n",
    "                  f\"..\\Kelmarsh\\Turbine_Data_Kelmarsh_6_2021-01-01_-_2021-07-01_233.csv\"]"
   ],
   "id": "e1890e45f3880503",
   "outputs": [],
   "execution_count": 107
  },
  {
   "metadata": {
    "ExecuteTime": {
     "end_time": "2025-01-30T14:33:32.988566Z",
     "start_time": "2025-01-30T14:33:32.969015Z"
    }
   },
   "cell_type": "code",
   "source": [
    "def load_data():\n",
    "    turbines_df = list()\n",
    "    for i in range(6):\n",
    "        csv_file = KELMARSH_PATHS[i]\n",
    "        df = pd.read_csv(\n",
    "            csv_file,\n",
    "            comment='#',          \n",
    "            parse_dates=['Date and time'], \n",
    "            na_values=[\"NaN\"], \n",
    "            header = 1              \n",
    "        )\n",
    "        turbines_df.append(df)\n",
    "    return turbines_df\n",
    "    "
   ],
   "id": "deecc17da9776fc3",
   "outputs": [],
   "execution_count": 124
  },
  {
   "metadata": {
    "ExecuteTime": {
     "end_time": "2025-01-30T10:26:39.709465Z",
     "start_time": "2025-01-30T10:26:39.700987Z"
    }
   },
   "cell_type": "code",
   "source": [
    "def generate_turbine_overview (id, turbine_df):\n",
    "    columns = len(turbine_df.columns)\n",
    "    rows = len (turbine_df.index)\n",
    "    first_timestamp  = turbine_df.iloc[0,0] \n",
    "    last_timestamp  = turbine_df.iloc[rows-1,0]\n",
    "    time_range = (first_timestamp, last_timestamp)\n",
    "    missing_values = turbine_df.isnull().sum().sum()\n",
    "    return TurbineOverview(id,columns, time_range, rows, missing_values)\n",
    "\n",
    "    \n",
    "    "
   ],
   "id": "9411b3090ff40dfd",
   "outputs": [],
   "execution_count": 59
  },
  {
   "metadata": {
    "ExecuteTime": {
     "end_time": "2025-01-30T10:48:32.287487Z",
     "start_time": "2025-01-30T10:48:32.273985Z"
    }
   },
   "cell_type": "code",
   "source": [
    "def turbine_overview_text (turbine_overview):\n",
    "    return (\"Turbine \" + turbine_overview.id + \" overview\" \n",
    "     +\"\\nColumns (variables) number: \" + str(turbine_overview.columns) \n",
    "     +\"\\nDatapoints: \"+ str(turbine_overview.rows)\n",
    "     +\"\\nTime range:\\n \" + str(turbine_overview.time_range[0]) + \"\\n \" + str(turbine_overview.time_range[1])\n",
    "     +\"\\nMissing values: \" + str(turbine_overview.missing_values))"
   ],
   "id": "5a7a108e8ef8d26d",
   "outputs": [],
   "execution_count": 98
  },
  {
   "metadata": {
    "ExecuteTime": {
     "end_time": "2025-01-30T13:49:37.160194Z",
     "start_time": "2025-01-30T13:49:37.146763Z"
    }
   },
   "cell_type": "code",
   "source": [
    "def save_to_file(filename, text):\n",
    "    with open(filename, 'w') as f:\n",
    "        print(text, file=f)  # Python 3.x"
   ],
   "id": "ce3cb45311eb87a0",
   "outputs": [],
   "execution_count": 103
  },
  {
   "metadata": {
    "ExecuteTime": {
     "end_time": "2025-01-30T14:38:58.661236Z",
     "start_time": "2025-01-30T14:38:58.651140Z"
    }
   },
   "cell_type": "code",
   "source": [
    "def empty_columns(df):\n",
    "    res = []\n",
    "    for c in range(299):\n",
    "        if(df.iloc[:,c].isnull().sum() == 26064):\n",
    "            res.append(df.columns[c])\n",
    "    return res\n",
    "    "
   ],
   "id": "27fd3d7f4bcd269d",
   "outputs": [],
   "execution_count": 134
  },
  {
   "metadata": {
    "ExecuteTime": {
     "end_time": "2025-01-30T10:26:37.211392Z",
     "start_time": "2025-01-30T10:26:37.203135Z"
    }
   },
   "cell_type": "code",
   "source": [
    "class TurbineOverview:\n",
    "    def __init__(self, id, columns, time_range, rows, missing_values):\n",
    "        self.id = id\n",
    "        self.columns = columns\n",
    "        self.time_range = time_range\n",
    "        self.rows = rows\n",
    "        self.missing_values = missing_values"
   ],
   "id": "103352d4e5dfffa4",
   "outputs": [],
   "execution_count": 58
  },
  {
   "metadata": {
    "ExecuteTime": {
     "end_time": "2025-01-30T14:46:49.315305Z",
     "start_time": "2025-01-30T14:46:49.106172Z"
    }
   },
   "cell_type": "code",
   "source": [
    "#data = load_data()\n",
    "for i in range(6):\n",
    "    turbnine = generate_turbine_overview(\"0\"+str(i+1), data[i])\n",
    "    print(turbine_overview_text(turbnine))\n",
    "    save_to_file(\"overviews\\kelmarsh0\"+str(i+1)+\"_overview.txt\", turbine_overview_text(turbnine))\n",
    "    \n"
   ],
   "id": "ed2ea04aa837e8d0",
   "outputs": [
    {
     "name": "stdout",
     "output_type": "stream",
     "text": [
      "Turbine 01 overview\n",
      "Columns (variables) number: 290\n",
      "Datapoints: 26064\n",
      "Time range:\n",
      " 2021-01-01 00:00:00\n",
      " 2021-06-30 23:50:00\n",
      "Missing values: 329733\n",
      "Turbine 02 overview\n",
      "Columns (variables) number: 290\n",
      "Datapoints: 26064\n",
      "Time range:\n",
      " 2021-01-01 00:00:00\n",
      " 2021-06-30 23:50:00\n",
      "Missing values: 329314\n",
      "Turbine 03 overview\n",
      "Columns (variables) number: 290\n",
      "Datapoints: 26064\n",
      "Time range:\n",
      " 2021-01-01 00:00:00\n",
      " 2021-06-30 23:50:00\n",
      "Missing values: 326871\n",
      "Turbine 04 overview\n",
      "Columns (variables) number: 290\n",
      "Datapoints: 26064\n",
      "Time range:\n",
      " 2021-01-01 00:00:00\n",
      " 2021-06-30 23:50:00\n",
      "Missing values: 332684\n",
      "Turbine 05 overview\n",
      "Columns (variables) number: 290\n",
      "Datapoints: 26064\n",
      "Time range:\n",
      " 2021-01-01 00:00:00\n",
      " 2021-06-30 23:50:00\n",
      "Missing values: 333673\n",
      "Turbine 06 overview\n",
      "Columns (variables) number: 290\n",
      "Datapoints: 26064\n",
      "Time range:\n",
      " 2021-01-01 00:00:00\n",
      " 2021-06-30 23:50:00\n",
      "Missing values: 348553\n"
     ]
    }
   ],
   "execution_count": 138
  },
  {
   "metadata": {
    "ExecuteTime": {
     "end_time": "2025-01-30T14:39:19.960887Z",
     "start_time": "2025-01-30T14:39:19.236424Z"
    }
   },
   "cell_type": "code",
   "source": [
    "print((empty_columns(data[0]) == empty_columns(data[1]) == \n",
    " empty_columns(data[2]) == empty_columns(data[3]) == \n",
    " empty_columns(data[4]) == empty_columns(data[5])))\n",
    "\n",
    "empty_columns(data[0])"
   ],
   "id": "25adeacad0b033f9",
   "outputs": [
    {
     "name": "stdout",
     "output_type": "stream",
     "text": [
      "True\n"
     ]
    },
    {
     "data": {
      "text/plain": [
       "['Lost Production (Contractual Global) (kWh)',\n",
       " 'Lost Production (Contractual Custom) (kWh)',\n",
       " 'Potential power met mast anemometer (kW)',\n",
       " 'Potential power met mast anemometer MPC (kW)',\n",
       " 'Time-based Contractual Avail. (Global)',\n",
       " 'Time-based Contractual Avail. (Custom)',\n",
       " 'Production-based Contractual Avail. (Global)',\n",
       " 'Production-based Contractual Avail. (Custom)',\n",
       " 'Equivalent Full Load Hours counter (s)']"
      ]
     },
     "execution_count": 136,
     "metadata": {},
     "output_type": "execute_result"
    }
   ],
   "execution_count": 136
  },
  {
   "metadata": {
    "ExecuteTime": {
     "end_time": "2025-01-30T14:46:29.757769Z",
     "start_time": "2025-01-30T14:46:29.365749Z"
    }
   },
   "cell_type": "code",
   "source": [
    "for i in range(6):\n",
    "    data[i].dropna(inplace=True, axis = \"columns\", how = \"all\")"
   ],
   "id": "dfa81916381b530b",
   "outputs": [],
   "execution_count": 137
  },
  {
   "metadata": {},
   "cell_type": "code",
   "outputs": [],
   "execution_count": null,
   "source": "",
   "id": "cb773f83c4fa06cd"
  },
  {
   "metadata": {},
   "cell_type": "markdown",
   "source": "",
   "id": "97423185ff55730"
  }
 ],
 "metadata": {
  "kernelspec": {
   "display_name": "Python 3",
   "language": "python",
   "name": "python3"
  },
  "language_info": {
   "codemirror_mode": {
    "name": "ipython",
    "version": 2
   },
   "file_extension": ".py",
   "mimetype": "text/x-python",
   "name": "python",
   "nbconvert_exporter": "python",
   "pygments_lexer": "ipython2",
   "version": "2.7.6"
  }
 },
 "nbformat": 4,
 "nbformat_minor": 5
}
