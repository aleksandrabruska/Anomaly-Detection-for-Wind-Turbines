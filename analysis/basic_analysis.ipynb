{
 "cells": [
  {
   "cell_type": "code",
   "id": "initial_id",
   "metadata": {
    "collapsed": true,
    "ExecuteTime": {
     "end_time": "2025-02-01T17:08:41.897421Z",
     "start_time": "2025-02-01T17:08:37.643499Z"
    }
   },
   "source": "import pandas as pd",
   "outputs": [],
   "execution_count": 1
  },
  {
   "metadata": {
    "ExecuteTime": {
     "end_time": "2025-02-01T17:09:09.386956Z",
     "start_time": "2025-02-01T17:09:09.374416Z"
    }
   },
   "cell_type": "code",
   "source": [
    "KELMARSH_PATHS = [f\"..\\data\\Kelmarsh\\Turbine_Data_Kelmarsh_1_2021-01-01_-_2021-07-01_228.csv\",\n",
    "                  f\"..\\data\\Kelmarsh\\Turbine_Data_Kelmarsh_2_2021-01-01_-_2021-07-01_229.csv\",\n",
    "                  f\"..\\data\\Kelmarsh\\Turbine_Data_Kelmarsh_3_2021-01-01_-_2021-07-01_230.csv\",\n",
    "                  f\"..\\data\\Kelmarsh\\Turbine_Data_Kelmarsh_4_2021-01-01_-_2021-07-01_231.csv\",\n",
    "                  f\"..\\data\\Kelmarsh\\Turbine_Data_Kelmarsh_5_2021-01-01_-_2021-07-01_232.csv\",\n",
    "                  f\"..\\data\\Kelmarsh\\Turbine_Data_Kelmarsh_6_2021-01-01_-_2021-07-01_233.csv\"]"
   ],
   "id": "e1890e45f3880503",
   "outputs": [],
   "execution_count": 2
  },
  {
   "metadata": {
    "ExecuteTime": {
     "end_time": "2025-02-01T17:16:58.692373Z",
     "start_time": "2025-02-01T17:16:58.672362Z"
    }
   },
   "cell_type": "code",
   "source": [
    "PENMANSHIEL_PATHS = [f\"..\\data\\Penmanshiel\\Turbine_Data_Penmanshiel_11_2021-01-01_-_2021-07-01_1051.csv\",\n",
    "                     f\"..\\data\\Penmanshiel\\Turbine_Data_Penmanshiel_12_2021-01-01_-_2021-07-01_1052.csv\",\n",
    "                     f\"..\\data\\Penmanshiel\\Turbine_Data_Penmanshiel_13_2021-01-01_-_2021-07-01_1053.csv\",\n",
    "                     f\"..\\data\\Penmanshiel\\Turbine_Data_Penmanshiel_14_2021-01-01_-_2021-07-01_1054.csv\",\n",
    "                     f\"..\\data\\Penmanshiel\\Turbine_Data_Penmanshiel_15_2021-01-01_-_2021-07-01_1056.csv\"]"
   ],
   "id": "f6d2575879d45573",
   "outputs": [],
   "execution_count": 19
  },
  {
   "metadata": {
    "ExecuteTime": {
     "end_time": "2025-02-01T17:18:51.890927Z",
     "start_time": "2025-02-01T17:18:51.870667Z"
    }
   },
   "cell_type": "code",
   "source": [
    "def load_kelmarsh():\n",
    "    return load_data(KELMARSH_PATHS)\n",
    "\n",
    "def load_penmanshiel():\n",
    "    return load_data(PENMANSHIEL_PATHS)\n",
    "\n",
    "def load_data(paths):\n",
    "    turbines_df = list()\n",
    "    for i in range(len(paths)):\n",
    "        csv_file = paths[i]\n",
    "        df = pd.read_csv(\n",
    "            csv_file,\n",
    "            comment='#',          \n",
    "            parse_dates=['Date and time'], \n",
    "            na_values=[\"NaN\"], \n",
    "            header = 1              \n",
    "        )\n",
    "        turbines_df.append(df)\n",
    "    return turbines_df\n",
    "    "
   ],
   "id": "deecc17da9776fc3",
   "outputs": [],
   "execution_count": 24
  },
  {
   "metadata": {
    "ExecuteTime": {
     "end_time": "2025-02-01T17:09:11.078514Z",
     "start_time": "2025-02-01T17:09:11.067730Z"
    }
   },
   "cell_type": "code",
   "source": [
    "def generate_turbine_overview (id, turbine_df):\n",
    "    columns = len(turbine_df.columns)\n",
    "    rows = len (turbine_df.index)\n",
    "    first_timestamp  = turbine_df.iloc[0,0] \n",
    "    last_timestamp  = turbine_df.iloc[rows-1,0]\n",
    "    time_range = (first_timestamp, last_timestamp)\n",
    "    missing_values = turbine_df.isnull().sum().sum()\n",
    "    return TurbineOverview(id,columns, time_range, rows, missing_values)\n",
    "\n",
    "    \n",
    "    "
   ],
   "id": "9411b3090ff40dfd",
   "outputs": [],
   "execution_count": 4
  },
  {
   "metadata": {
    "ExecuteTime": {
     "end_time": "2025-02-01T17:09:11.610749Z",
     "start_time": "2025-02-01T17:09:11.602350Z"
    }
   },
   "cell_type": "code",
   "source": [
    "def turbine_overview_text (turbine_overview):\n",
    "    return (\"Turbine \" + turbine_overview.id + \" overview\" \n",
    "     +\"\\nColumns (variables) number: \" + str(turbine_overview.columns) \n",
    "     +\"\\nDatapoints: \"+ str(turbine_overview.rows)\n",
    "     +\"\\nTime range:\\n \" + str(turbine_overview.time_range[0]) + \"\\n \" + str(turbine_overview.time_range[1])\n",
    "     +\"\\nMissing values: \" + str(turbine_overview.missing_values))"
   ],
   "id": "5a7a108e8ef8d26d",
   "outputs": [],
   "execution_count": 5
  },
  {
   "metadata": {
    "ExecuteTime": {
     "end_time": "2025-02-01T17:09:12.040472Z",
     "start_time": "2025-02-01T17:09:12.029758Z"
    }
   },
   "cell_type": "code",
   "source": [
    "def save_to_file(filename, text):\n",
    "    with open(filename, 'w') as f:\n",
    "        print(text, file=f)  # Python 3.x"
   ],
   "id": "ce3cb45311eb87a0",
   "outputs": [],
   "execution_count": 6
  },
  {
   "metadata": {
    "ExecuteTime": {
     "end_time": "2025-02-01T17:09:12.550052Z",
     "start_time": "2025-02-01T17:09:12.540627Z"
    }
   },
   "cell_type": "code",
   "source": [
    "def empty_columns(df):\n",
    "    res = []\n",
    "    for c in range(299):\n",
    "        if(df.iloc[:,c].isnull().sum() == 26064):\n",
    "            res.append(df.columns[c])\n",
    "    return res\n",
    "    "
   ],
   "id": "27fd3d7f4bcd269d",
   "outputs": [],
   "execution_count": 7
  },
  {
   "metadata": {
    "ExecuteTime": {
     "end_time": "2025-02-01T17:09:13.100471Z",
     "start_time": "2025-02-01T17:09:13.080448Z"
    }
   },
   "cell_type": "code",
   "source": [
    "class TurbineOverview:\n",
    "    def __init__(self, id, columns, time_range, rows, missing_values):\n",
    "        self.id = id\n",
    "        self.columns = columns\n",
    "        self.time_range = time_range\n",
    "        self.rows = rows\n",
    "        self.missing_values = missing_values"
   ],
   "id": "103352d4e5dfffa4",
   "outputs": [],
   "execution_count": 8
  },
  {
   "metadata": {
    "ExecuteTime": {
     "end_time": "2025-02-01T17:15:50.471192Z",
     "start_time": "2025-02-01T17:15:37.234100Z"
    }
   },
   "cell_type": "code",
   "source": [
    "data = load_kelmarsh()\n",
    "for i in range(6):\n",
    "    turbnine = generate_turbine_overview(\"0\"+str(i+1), data[i])\n",
    "    #print(turbine_overview_text(turbnine))\n",
    "    save_to_file(\"overviews\\kelmarsh0\"+str(i+1)+\"_overview.txt\", turbine_overview_text(turbnine))\n",
    "    \n"
   ],
   "id": "ed2ea04aa837e8d0",
   "outputs": [
    {
     "ename": "TypeError",
     "evalue": "'NoneType' object is not subscriptable",
     "output_type": "error",
     "traceback": [
      "\u001B[1;31m---------------------------------------------------------------------------\u001B[0m",
      "\u001B[1;31mTypeError\u001B[0m                                 Traceback (most recent call last)",
      "Cell \u001B[1;32mIn[15], line 3\u001B[0m\n\u001B[0;32m      1\u001B[0m data \u001B[38;5;241m=\u001B[39m load_kelmarsh()\n\u001B[0;32m      2\u001B[0m \u001B[38;5;28;01mfor\u001B[39;00m i \u001B[38;5;129;01min\u001B[39;00m \u001B[38;5;28mrange\u001B[39m(\u001B[38;5;241m6\u001B[39m):\n\u001B[1;32m----> 3\u001B[0m     turbnine \u001B[38;5;241m=\u001B[39m generate_turbine_overview(\u001B[38;5;124m\"\u001B[39m\u001B[38;5;124m0\u001B[39m\u001B[38;5;124m\"\u001B[39m\u001B[38;5;241m+\u001B[39m\u001B[38;5;28mstr\u001B[39m(i\u001B[38;5;241m+\u001B[39m\u001B[38;5;241m1\u001B[39m), \u001B[43mdata\u001B[49m\u001B[43m[\u001B[49m\u001B[43mi\u001B[49m\u001B[43m]\u001B[49m)\n\u001B[0;32m      4\u001B[0m     \u001B[38;5;66;03m#print(turbine_overview_text(turbnine))\u001B[39;00m\n\u001B[0;32m      5\u001B[0m     save_to_file(\u001B[38;5;124m\"\u001B[39m\u001B[38;5;124moverviews\u001B[39m\u001B[38;5;124m\\\u001B[39m\u001B[38;5;124mkelmarsh0\u001B[39m\u001B[38;5;124m\"\u001B[39m\u001B[38;5;241m+\u001B[39m\u001B[38;5;28mstr\u001B[39m(i\u001B[38;5;241m+\u001B[39m\u001B[38;5;241m1\u001B[39m)\u001B[38;5;241m+\u001B[39m\u001B[38;5;124m\"\u001B[39m\u001B[38;5;124m_overview.txt\u001B[39m\u001B[38;5;124m\"\u001B[39m, turbine_overview_text(turbnine))\n",
      "\u001B[1;31mTypeError\u001B[0m: 'NoneType' object is not subscriptable"
     ]
    }
   ],
   "execution_count": 15
  },
  {
   "metadata": {
    "ExecuteTime": {
     "end_time": "2025-02-01T17:15:20.049241Z",
     "start_time": "2025-02-01T17:15:18.144330Z"
    }
   },
   "cell_type": "code",
   "source": [
    "print((empty_columns(data[0]) == empty_columns(data[1]) == \n",
    " empty_columns(data[2]) == empty_columns(data[3]) == \n",
    " empty_columns(data[4]) == empty_columns(data[5])))\n",
    "\n",
    "#empty_columns(data[0])"
   ],
   "id": "25adeacad0b033f9",
   "outputs": [
    {
     "ename": "IndexError",
     "evalue": "single positional indexer is out-of-bounds",
     "output_type": "error",
     "traceback": [
      "\u001B[1;31m---------------------------------------------------------------------------\u001B[0m",
      "\u001B[1;31mIndexError\u001B[0m                                Traceback (most recent call last)",
      "Cell \u001B[1;32mIn[12], line 1\u001B[0m\n\u001B[1;32m----> 1\u001B[0m \u001B[38;5;28mprint\u001B[39m((\u001B[43mempty_columns\u001B[49m\u001B[43m(\u001B[49m\u001B[43mdata\u001B[49m\u001B[43m[\u001B[49m\u001B[38;5;241;43m0\u001B[39;49m\u001B[43m]\u001B[49m\u001B[43m)\u001B[49m \u001B[38;5;241m==\u001B[39m empty_columns(data[\u001B[38;5;241m1\u001B[39m]) \u001B[38;5;241m==\u001B[39m \n\u001B[0;32m      2\u001B[0m  empty_columns(data[\u001B[38;5;241m2\u001B[39m]) \u001B[38;5;241m==\u001B[39m empty_columns(data[\u001B[38;5;241m3\u001B[39m]) \u001B[38;5;241m==\u001B[39m \n\u001B[0;32m      3\u001B[0m  empty_columns(data[\u001B[38;5;241m4\u001B[39m]) \u001B[38;5;241m==\u001B[39m empty_columns(data[\u001B[38;5;241m5\u001B[39m])))\n\u001B[0;32m      5\u001B[0m \u001B[38;5;66;03m#empty_columns(data[0])\u001B[39;00m\n",
      "Cell \u001B[1;32mIn[7], line 4\u001B[0m, in \u001B[0;36mempty_columns\u001B[1;34m(df)\u001B[0m\n\u001B[0;32m      2\u001B[0m res \u001B[38;5;241m=\u001B[39m []\n\u001B[0;32m      3\u001B[0m \u001B[38;5;28;01mfor\u001B[39;00m c \u001B[38;5;129;01min\u001B[39;00m \u001B[38;5;28mrange\u001B[39m(\u001B[38;5;241m299\u001B[39m):\n\u001B[1;32m----> 4\u001B[0m     \u001B[38;5;28;01mif\u001B[39;00m(\u001B[43mdf\u001B[49m\u001B[38;5;241;43m.\u001B[39;49m\u001B[43miloc\u001B[49m\u001B[43m[\u001B[49m\u001B[43m:\u001B[49m\u001B[43m,\u001B[49m\u001B[43mc\u001B[49m\u001B[43m]\u001B[49m\u001B[38;5;241m.\u001B[39misnull()\u001B[38;5;241m.\u001B[39msum() \u001B[38;5;241m==\u001B[39m \u001B[38;5;241m26064\u001B[39m):\n\u001B[0;32m      5\u001B[0m         res\u001B[38;5;241m.\u001B[39mappend(df\u001B[38;5;241m.\u001B[39mcolumns[c])\n\u001B[0;32m      6\u001B[0m \u001B[38;5;28;01mreturn\u001B[39;00m res\n",
      "File \u001B[1;32m~\\OneDrive\\Pulpit\\aarhus\\Biomedical Machine Learning\\project\\interpreter\\Lib\\site-packages\\pandas\\core\\indexing.py:1184\u001B[0m, in \u001B[0;36m_LocationIndexer.__getitem__\u001B[1;34m(self, key)\u001B[0m\n\u001B[0;32m   1182\u001B[0m     \u001B[38;5;28;01mif\u001B[39;00m \u001B[38;5;28mself\u001B[39m\u001B[38;5;241m.\u001B[39m_is_scalar_access(key):\n\u001B[0;32m   1183\u001B[0m         \u001B[38;5;28;01mreturn\u001B[39;00m \u001B[38;5;28mself\u001B[39m\u001B[38;5;241m.\u001B[39mobj\u001B[38;5;241m.\u001B[39m_get_value(\u001B[38;5;241m*\u001B[39mkey, takeable\u001B[38;5;241m=\u001B[39m\u001B[38;5;28mself\u001B[39m\u001B[38;5;241m.\u001B[39m_takeable)\n\u001B[1;32m-> 1184\u001B[0m     \u001B[38;5;28;01mreturn\u001B[39;00m \u001B[38;5;28;43mself\u001B[39;49m\u001B[38;5;241;43m.\u001B[39;49m\u001B[43m_getitem_tuple\u001B[49m\u001B[43m(\u001B[49m\u001B[43mkey\u001B[49m\u001B[43m)\u001B[49m\n\u001B[0;32m   1185\u001B[0m \u001B[38;5;28;01melse\u001B[39;00m:\n\u001B[0;32m   1186\u001B[0m     \u001B[38;5;66;03m# we by definition only have the 0th axis\u001B[39;00m\n\u001B[0;32m   1187\u001B[0m     axis \u001B[38;5;241m=\u001B[39m \u001B[38;5;28mself\u001B[39m\u001B[38;5;241m.\u001B[39maxis \u001B[38;5;129;01mor\u001B[39;00m \u001B[38;5;241m0\u001B[39m\n",
      "File \u001B[1;32m~\\OneDrive\\Pulpit\\aarhus\\Biomedical Machine Learning\\project\\interpreter\\Lib\\site-packages\\pandas\\core\\indexing.py:1690\u001B[0m, in \u001B[0;36m_iLocIndexer._getitem_tuple\u001B[1;34m(self, tup)\u001B[0m\n\u001B[0;32m   1689\u001B[0m \u001B[38;5;28;01mdef\u001B[39;00m \u001B[38;5;21m_getitem_tuple\u001B[39m(\u001B[38;5;28mself\u001B[39m, tup: \u001B[38;5;28mtuple\u001B[39m):\n\u001B[1;32m-> 1690\u001B[0m     tup \u001B[38;5;241m=\u001B[39m \u001B[38;5;28;43mself\u001B[39;49m\u001B[38;5;241;43m.\u001B[39;49m\u001B[43m_validate_tuple_indexer\u001B[49m\u001B[43m(\u001B[49m\u001B[43mtup\u001B[49m\u001B[43m)\u001B[49m\n\u001B[0;32m   1691\u001B[0m     \u001B[38;5;28;01mwith\u001B[39;00m suppress(IndexingError):\n\u001B[0;32m   1692\u001B[0m         \u001B[38;5;28;01mreturn\u001B[39;00m \u001B[38;5;28mself\u001B[39m\u001B[38;5;241m.\u001B[39m_getitem_lowerdim(tup)\n",
      "File \u001B[1;32m~\\OneDrive\\Pulpit\\aarhus\\Biomedical Machine Learning\\project\\interpreter\\Lib\\site-packages\\pandas\\core\\indexing.py:966\u001B[0m, in \u001B[0;36m_LocationIndexer._validate_tuple_indexer\u001B[1;34m(self, key)\u001B[0m\n\u001B[0;32m    964\u001B[0m \u001B[38;5;28;01mfor\u001B[39;00m i, k \u001B[38;5;129;01min\u001B[39;00m \u001B[38;5;28menumerate\u001B[39m(key):\n\u001B[0;32m    965\u001B[0m     \u001B[38;5;28;01mtry\u001B[39;00m:\n\u001B[1;32m--> 966\u001B[0m         \u001B[38;5;28;43mself\u001B[39;49m\u001B[38;5;241;43m.\u001B[39;49m\u001B[43m_validate_key\u001B[49m\u001B[43m(\u001B[49m\u001B[43mk\u001B[49m\u001B[43m,\u001B[49m\u001B[43m \u001B[49m\u001B[43mi\u001B[49m\u001B[43m)\u001B[49m\n\u001B[0;32m    967\u001B[0m     \u001B[38;5;28;01mexcept\u001B[39;00m \u001B[38;5;167;01mValueError\u001B[39;00m \u001B[38;5;28;01mas\u001B[39;00m err:\n\u001B[0;32m    968\u001B[0m         \u001B[38;5;28;01mraise\u001B[39;00m \u001B[38;5;167;01mValueError\u001B[39;00m(\n\u001B[0;32m    969\u001B[0m             \u001B[38;5;124m\"\u001B[39m\u001B[38;5;124mLocation based indexing can only have \u001B[39m\u001B[38;5;124m\"\u001B[39m\n\u001B[0;32m    970\u001B[0m             \u001B[38;5;124mf\u001B[39m\u001B[38;5;124m\"\u001B[39m\u001B[38;5;124m[\u001B[39m\u001B[38;5;132;01m{\u001B[39;00m\u001B[38;5;28mself\u001B[39m\u001B[38;5;241m.\u001B[39m_valid_types\u001B[38;5;132;01m}\u001B[39;00m\u001B[38;5;124m] types\u001B[39m\u001B[38;5;124m\"\u001B[39m\n\u001B[0;32m    971\u001B[0m         ) \u001B[38;5;28;01mfrom\u001B[39;00m \u001B[38;5;21;01merr\u001B[39;00m\n",
      "File \u001B[1;32m~\\OneDrive\\Pulpit\\aarhus\\Biomedical Machine Learning\\project\\interpreter\\Lib\\site-packages\\pandas\\core\\indexing.py:1592\u001B[0m, in \u001B[0;36m_iLocIndexer._validate_key\u001B[1;34m(self, key, axis)\u001B[0m\n\u001B[0;32m   1590\u001B[0m     \u001B[38;5;28;01mreturn\u001B[39;00m\n\u001B[0;32m   1591\u001B[0m \u001B[38;5;28;01melif\u001B[39;00m is_integer(key):\n\u001B[1;32m-> 1592\u001B[0m     \u001B[38;5;28;43mself\u001B[39;49m\u001B[38;5;241;43m.\u001B[39;49m\u001B[43m_validate_integer\u001B[49m\u001B[43m(\u001B[49m\u001B[43mkey\u001B[49m\u001B[43m,\u001B[49m\u001B[43m \u001B[49m\u001B[43maxis\u001B[49m\u001B[43m)\u001B[49m\n\u001B[0;32m   1593\u001B[0m \u001B[38;5;28;01melif\u001B[39;00m \u001B[38;5;28misinstance\u001B[39m(key, \u001B[38;5;28mtuple\u001B[39m):\n\u001B[0;32m   1594\u001B[0m     \u001B[38;5;66;03m# a tuple should already have been caught by this point\u001B[39;00m\n\u001B[0;32m   1595\u001B[0m     \u001B[38;5;66;03m# so don't treat a tuple as a valid indexer\u001B[39;00m\n\u001B[0;32m   1596\u001B[0m     \u001B[38;5;28;01mraise\u001B[39;00m IndexingError(\u001B[38;5;124m\"\u001B[39m\u001B[38;5;124mToo many indexers\u001B[39m\u001B[38;5;124m\"\u001B[39m)\n",
      "File \u001B[1;32m~\\OneDrive\\Pulpit\\aarhus\\Biomedical Machine Learning\\project\\interpreter\\Lib\\site-packages\\pandas\\core\\indexing.py:1685\u001B[0m, in \u001B[0;36m_iLocIndexer._validate_integer\u001B[1;34m(self, key, axis)\u001B[0m\n\u001B[0;32m   1683\u001B[0m len_axis \u001B[38;5;241m=\u001B[39m \u001B[38;5;28mlen\u001B[39m(\u001B[38;5;28mself\u001B[39m\u001B[38;5;241m.\u001B[39mobj\u001B[38;5;241m.\u001B[39m_get_axis(axis))\n\u001B[0;32m   1684\u001B[0m \u001B[38;5;28;01mif\u001B[39;00m key \u001B[38;5;241m>\u001B[39m\u001B[38;5;241m=\u001B[39m len_axis \u001B[38;5;129;01mor\u001B[39;00m key \u001B[38;5;241m<\u001B[39m \u001B[38;5;241m-\u001B[39mlen_axis:\n\u001B[1;32m-> 1685\u001B[0m     \u001B[38;5;28;01mraise\u001B[39;00m \u001B[38;5;167;01mIndexError\u001B[39;00m(\u001B[38;5;124m\"\u001B[39m\u001B[38;5;124msingle positional indexer is out-of-bounds\u001B[39m\u001B[38;5;124m\"\u001B[39m)\n",
      "\u001B[1;31mIndexError\u001B[0m: single positional indexer is out-of-bounds"
     ]
    }
   ],
   "execution_count": 12
  },
  {
   "metadata": {
    "ExecuteTime": {
     "end_time": "2025-02-01T17:10:40.023123Z",
     "start_time": "2025-02-01T17:10:39.570661Z"
    }
   },
   "cell_type": "code",
   "source": [
    "for i in range(6):\n",
    "    data[i].dropna(inplace=True, axis = \"columns\", how = \"all\")"
   ],
   "id": "dfa81916381b530b",
   "outputs": [],
   "execution_count": 11
  },
  {
   "metadata": {
    "ExecuteTime": {
     "end_time": "2025-02-01T17:49:45.777158Z",
     "start_time": "2025-02-01T17:49:45.614905Z"
    }
   },
   "cell_type": "code",
   "source": [
    "#data = load_penmanshiel()\n",
    "for i in range(5):\n",
    "    turbnine = generate_turbine_overview(\"0\"+str(i+1), data[i])\n",
    "    #print(turbine_overview_text(turbnine))\n",
    "    save_to_file(\"overviews\\penmanshiel0\"+str(i+1)+\"_overview.txt\", turbine_overview_text(turbnine))\n",
    "    "
   ],
   "id": "cb773f83c4fa06cd",
   "outputs": [],
   "execution_count": 29
  },
  {
   "metadata": {
    "ExecuteTime": {
     "end_time": "2025-02-01T17:48:33.849504Z",
     "start_time": "2025-02-01T17:48:33.050972Z"
    }
   },
   "cell_type": "code",
   "source": [
    "print((empty_columns(data[0]) == empty_columns(data[1]) == \n",
    " empty_columns(data[2]) == empty_columns(data[3]) == \n",
    " empty_columns(data[4])))\n",
    "\n",
    "empty_columns(data[0])"
   ],
   "id": "bf49810bc66602d3",
   "outputs": [
    {
     "name": "stdout",
     "output_type": "stream",
     "text": [
      "True\n"
     ]
    },
    {
     "data": {
      "text/plain": [
       "['Lost Production (Contractual Global) (kWh)',\n",
       " 'Lost Production (Contractual Custom) (kWh)',\n",
       " 'Potential power met mast anemometer (kW)',\n",
       " 'Potential power met mast anemometer MPC (kW)',\n",
       " 'Time-based Contractual Avail. (Global)',\n",
       " 'Time-based Contractual Avail. (Custom)',\n",
       " 'Production-based Contractual Avail. (Global)',\n",
       " 'Production-based Contractual Avail. (Custom)',\n",
       " 'Equivalent Full Load Hours counter (s)']"
      ]
     },
     "execution_count": 27,
     "metadata": {},
     "output_type": "execute_result"
    }
   ],
   "execution_count": 27
  },
  {
   "metadata": {
    "ExecuteTime": {
     "end_time": "2025-02-01T17:49:29.213111Z",
     "start_time": "2025-02-01T17:49:28.994086Z"
    }
   },
   "cell_type": "code",
   "source": [
    "for i in range(5):\n",
    "    data[i].dropna(inplace=True, axis=\"columns\", how=\"all\")"
   ],
   "id": "cd53d643489baa31",
   "outputs": [],
   "execution_count": 28
  },
  {
   "metadata": {},
   "cell_type": "markdown",
   "source": "",
   "id": "97423185ff55730"
  }
 ],
 "metadata": {
  "kernelspec": {
   "display_name": "Python 3",
   "language": "python",
   "name": "python3"
  },
  "language_info": {
   "codemirror_mode": {
    "name": "ipython",
    "version": 2
   },
   "file_extension": ".py",
   "mimetype": "text/x-python",
   "name": "python",
   "nbconvert_exporter": "python",
   "pygments_lexer": "ipython2",
   "version": "2.7.6"
  }
 },
 "nbformat": 4,
 "nbformat_minor": 5
}
